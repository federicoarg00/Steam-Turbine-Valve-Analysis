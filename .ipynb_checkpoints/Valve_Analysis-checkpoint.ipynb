{
 "cells": [
  {
   "cell_type": "markdown",
   "metadata": {},
   "source": [
    "# Import Dependencies and Define Functions"
   ]
  },
  {
   "cell_type": "code",
   "execution_count": 1,
   "metadata": {},
   "outputs": [],
   "source": [
    "#Import dependencies\n",
    "import pandas as pd\n",
    "import matplotlib.pyplot as plt\n",
    "import numpy\n",
    "from scipy import optimize\n",
    "import os\n",
    "from tkinter import Tk\n",
    "from tkinter.filedialog import askdirectory\n",
    "from iapws import IAPWS97 as steam_prop"
   ]
  },
  {
   "cell_type": "code",
   "execution_count": 2,
   "metadata": {},
   "outputs": [],
   "source": [
    "#Define a function that calculates the density for a given pressure and temperature\n",
    "def calc_rho(p, t):\n",
    "    \n",
    "    #convert psia to MPA\n",
    "    pressure = p*0.00689476\n",
    "    \n",
    "    #convert farenheit to Kelvin\n",
    "    temp = (t - 32)*5/9 + 273.15\n",
    "    \n",
    "    #get the density \n",
    "    r = steam_prop(P=pressure, T=temp).v\n",
    "    rho = steam_prop(P=pressure, T=temp).rho\n",
    "    \n",
    "    #convert density from kg/M^3 to lb/ft^3\n",
    "    rho = rho*0.062428\n",
    "    \n",
    "    return rho"
   ]
  },
  {
   "cell_type": "markdown",
   "metadata": {},
   "source": [
    "# Open a Project"
   ]
  },
  {
   "cell_type": "code",
   "execution_count": 3,
   "metadata": {},
   "outputs": [
    {
     "name": "stdout",
     "output_type": "stream",
     "text": [
      "Would you like to return to an existing project?(y/n)y\n"
     ]
    }
   ],
   "source": [
    "#Ask if user would like to open a project\n",
    "open_flag = input(\"Would you like to return to an existing project?(y/n)\")\n",
    "\n",
    "#If user requests to open project, request project name\n",
    "if open_flag == \"y\":\n",
    "    try:\n",
    "        path = askdirectory(title=\"Select Project Folder\")\n",
    "    except:\n",
    "        print(\"File open failed.\")"
   ]
  },
  {
   "cell_type": "code",
   "execution_count": 4,
   "metadata": {},
   "outputs": [],
   "source": [
    "#get project name\n",
    "list_path = path.split(sep=\"/\")\n",
    "open_project = list_path[-1]\n",
    "project = open_project\n",
    "\n",
    "#Load available dataframes\n",
    "try:\n",
    "    single_dmd_df = pd.read_csv(f\"projects/{open_project}/single_dmd_curve.csv\")\n",
    "except:\n",
    "    print(\"Couldn't load 'single_dmd_curve.csv' from project\")\n",
    "    \n",
    "try:\n",
    "    gv_demand_df = pd.read_csv(f\"projects/{open_project}/sequential_dmd_curve.csv\")\n",
    "    #Use integer division to get number of governor valves\n",
    "    gov_no = len(gv_demand_df.columns)//2\n",
    "except:\n",
    "    print(\"Couldn't load 'sequential_dmd_curve.csv' from project\")\n",
    "    \n",
    "try:\n",
    "    design_df = pd.read_csv(f\"projects/{open_project}/design_data.csv\")\n",
    "except:\n",
    "    print(\"Couldn't load 'design_data.csv' from project\")\n",
    "    "
   ]
  },
  {
   "cell_type": "markdown",
   "metadata": {},
   "source": [
    "# Define a New Project"
   ]
  },
  {
   "cell_type": "code",
   "execution_count": 80,
   "metadata": {},
   "outputs": [
    {
     "name": "stdout",
     "output_type": "stream",
     "text": [
      "What would you like to call this project?Bowen1\n"
     ]
    }
   ],
   "source": [
    "#Get a project name from the user\n",
    "project = input(\"What would you like to call this project?\")"
   ]
  },
  {
   "cell_type": "code",
   "execution_count": null,
   "metadata": {},
   "outputs": [],
   "source": [
    "#Create a Directory for the project\n",
    "try:\n",
    "    os.mkdir(\"projects\")\n",
    "except:\n",
    "    print(\"Couldn't make new 'projects' directory\")\n",
    "try:\n",
    "    os.mkdir(f\"projects/{project}\")\n",
    "except:\n",
    "    print(f\"Couldn't make new '{project}' directory\")"
   ]
  },
  {
   "cell_type": "markdown",
   "metadata": {},
   "source": [
    "# Define Single Mode Governor Demand to Valve Position Curve"
   ]
  },
  {
   "cell_type": "code",
   "execution_count": null,
   "metadata": {},
   "outputs": [],
   "source": [
    "#Import Governor Demand to Single Valve Demand curve\n",
    "user_x = input(\"Enter the x values for Single Valve Mode\")\n",
    "user_y = input(\"Enter the y values for Single Valve Mode\")\n",
    "list_x = user_x.split()\n",
    "list_y = user_y.split()\n",
    "\n",
    "    \n",
    "#convert list of strings to list of floats\n",
    "x_axis = [float(i) for i in list_x]\n",
    "y_axis = [float(i) for i in list_y]\n",
    "    \n",
    "#Tell user what was entered\n",
    "print(f\"You entered {len(x_axis)} x values and {len(y_axis)} y values\")\n",
    "data = {\"Governor Demand\" : x_axis, \"Valve Position Demand\" : y_axis}\n",
    "single_dmd_df = pd.DataFrame(data)\n",
    "\n",
    "#Save Dataframe to csv\n",
    "single_dmd_df.to_csv(f\"projects/{project}/single_dmd_curve.csv\")"
   ]
  },
  {
   "cell_type": "code",
   "execution_count": 37,
   "metadata": {},
   "outputs": [
    {
     "data": {
      "image/png": "[encoded data removed]",
      "text/plain": [
       "<Figure size 432x288 with 1 Axes>"
      ]
     },
     "metadata": {
      "needs_background": "light"
     },
     "output_type": "display_data"
    }
   ],
   "source": [
    "#plot the governor demand single valve curve\n",
    "plt.plot(single_dmd_df[\"Governor Demand\"], single_dmd_df[\"Valve Position Demand\"], \"o-\")\n",
    "plt.title(\"Single Valve Mode\\nValve Position Demand vs Governor Demand\\n\")\n",
    "plt.ylabel(\"Valve Position Demand (%)\")\n",
    "plt.xlabel(\"\\nGovernor Valve Demand (%)\")\n",
    "plt.tight_layout()\n",
    "\n",
    "#save the figure to the project directory\n",
    "plt.savefig(f\"projects/{project}/single_dmd_curve.png\")"
   ]
  },
  {
   "cell_type": "markdown",
   "metadata": {},
   "source": [
    "# Define Sequential Mode Governor Demand to Valve Positions Curves"
   ]
  },
  {
   "cell_type": "code",
   "execution_count": 11,
   "metadata": {},
   "outputs": [
    {
     "name": "stdout",
     "output_type": "stream",
     "text": [
      "How many governor valves are there?8\n",
      "['GV1 x', 'GV1 y', 'GV2 x', 'GV2 y', 'GV3 x', 'GV3 y', 'GV4 x', 'GV4 y', 'GV5 x', 'GV5 y', 'GV6 x', 'GV6 y', 'GV7 x', 'GV7 y', 'GV8 x', 'GV8 y']\n"
     ]
    }
   ],
   "source": [
    "#Get number of governor valves from the user\n",
    "gov_no = int(input(\"How many governor valves are there?\"))\n",
    "\n",
    "#Create a list of column titles for Pandas dataframe\n",
    "titles = []\n",
    "for i in range(gov_no):\n",
    "    titles.append(\"GV\"+str(i+1)+\" x\")\n",
    "    titles.append(\"GV\"+str(i+1)+\" y\")\n",
    "print(titles)"
   ]
  },
  {
   "cell_type": "code",
   "execution_count": 12,
   "metadata": {},
   "outputs": [
    {
     "name": "stdout",
     "output_type": "stream",
     "text": [
      "Copy the x values for GV #1 0 84 85 90 92 95 96 99.2 99.5 100 100.1 100.2 100.3 101\n",
      "Copy the y values for GV #1 -0.5 0 2 14.6 22 100 101 101 101 101 101 101 101 101\n",
      "Copy the x values for GV #2 0 0.5 44 51.6 56 65 75 80 84 85 86 88 90 100\n",
      "Copy the y values for GV #2 -1 -0.5 0.5 5.2 12 17 23.5 29 33 36.8 41 50 100 101\n",
      "Copy the x values for GV #3 0 5 19.97 29 34 38.5 42 46 54.4 75 85 90 95 100\n",
      "Copy the y values for GV #3 0 6 20 28 29.8 31.15 35.6 37.5 40.5 52 100 101 101 101\n",
      "Copy the x values for GV #4 0 5 19.97 29 34 38.5 42 46 54.4 75 85 90 95 100\n",
      "Copy the y values for GV #4 0 6 20 28 29.8 31.15 35.6 37.5 40.5 52 100 101 101 101\n",
      "Copy the x values for GV #5 0 5 19.97 29 34 38.5 42 46 54.4 75 85 90 95 100\n",
      "Copy the y values for GV #5 0 6 20 28 29.8 31.15 35.6 37.5 40.5 52 100 101 101 101\n",
      "Copy the x values for GV #6 0 5 19.97 29 34 38.5 42 46 54.4 75 85 90 95 100\n",
      "Copy the y values for GV #6 0 6 20 28 29.8 31.15 35.6 37.5 40.5 52 100 101 101 101\n",
      "Copy the x values for GV #7 0 0.5 44 51.6 56 65 75 80 84 85 86 88 90 100\n",
      "Copy the y values for GV #7 -1 -0.5 0.5 5.2 12 17 23.5 29 33 36.8 41 50 100 101\n",
      "Copy the x values for GV #8 0 10 84 92 94 98 99.9 100.1 100.2 100.3 100.4 100.5 100.6 101\n",
      "Copy the y values for GV #8 -1 -0.5 0 0 10 30 100 100 100 100 100 100 100 100\n"
     ]
    }
   ],
   "source": [
    "#For each governor valve enter the\n",
    "gv_demand_curves = []\n",
    "for i in range(gov_no):\n",
    "    user_x = input(f\"Copy the x values for GV #{i+1} \")\n",
    "    user_y = input(f\"Copy the y values for GV #{i+1} \")\n",
    "    list_x = user_x.split()\n",
    "    list_y = user_y.split()\n",
    "    \n",
    "    #convert list of strings to list of floats\n",
    "    list_x = [float(i) for i in list_x]\n",
    "    list_y = [float(i) for i in list_y]\n",
    "    \n",
    "    #Append lists to the master list\n",
    "    gv_demand_curves.append(list_x)\n",
    "    gv_demand_curves.append(list_y)"
   ]
  },
  {
   "cell_type": "code",
   "execution_count": 17,
   "metadata": {},
   "outputs": [],
   "source": [
    "#Define a dictionary of the governor valve demand curves\n",
    "dictionary = {}\n",
    "for i in range(2*gov_no):\n",
    "    dictionary.update({titles[i] : gv_demand_curves[i]})\n",
    "\n",
    "#Use dictionary to create a pandas dataframe\n",
    "gv_demand_df = pd.DataFrame(dictionary)\n",
    "gv_demand_df\n",
    "\n",
    "#Save Dataframe to csv\n",
    "gv_demand_df.to_csv(f\"projects/{project}/sequential_dmd_curve.csv\")\n"
   ]
  },
  {
   "cell_type": "code",
   "execution_count": 40,
   "metadata": {},
   "outputs": [
    {
     "data": {
      "image/png": "[encoded data removed]",
      "text/plain": [
       "<Figure size 432x288 with 1 Axes>"
      ]
     },
     "metadata": {
      "needs_background": "light"
     },
     "output_type": "display_data"
    }
   ],
   "source": [
    "#Create a plot of all the governor demand curves\n",
    "for i in range(gov_no):\n",
    "    plt.plot(gv_demand_df.iloc[:,i*2], gv_demand_df.iloc[:,i*2+1], 'o-')\n",
    "\n",
    "#Create Labels\n",
    "legend_list = [f\"GV{i+1}\" for i in range(gov_no)]\n",
    "plt.legend(legend_list)\n",
    "\n",
    "#Add labels\n",
    "plt.title(\"Sequential Valve Mode\\nValve Position Demand vs Governor Demand\\n\")\n",
    "plt.ylabel(\"Valve Position Demand (%)\")\n",
    "plt.xlabel(\"\\nGovernor Valve Demand (%)\")\n",
    "\n",
    "#save figure\n",
    "plt.savefig(f\"projects/{project}/sequential_dmd_curve.png\")"
   ]
  },
  {
   "cell_type": "markdown",
   "metadata": {},
   "source": [
    "# Define the Design Performance"
   ]
  },
  {
   "cell_type": "code",
   "execution_count": 19,
   "metadata": {},
   "outputs": [
    {
     "name": "stdout",
     "output_type": "stream",
     "text": [
      "input governor demand historical data0 0 0 0 0 0 0 0 0 0 0 0 0 0 0 0 0 0 0 0 0 0 0 0 0 0 0 0 0 0 0 0 0 0 0 0 0 0 0 0 0 0 0 0 0 0 0 0 0 0 0 0 0 0 0 0 0 0 0 0 0 0 0 0 0 0 0 0 0 0 0 0 0 0 0 0 0 0 0 0 0 0 0 0 0 0 0 0 0 0 0 0 0 0 0 0 0 0 0 0 0 0 0 0 0 0 0 0 0 0 0 0 0 0 0 0 19.95898438 20.59375 20.59375 21.09765625 25.27148438 25.79101563 25.79101563 25.79101563 25.79101563 25.79101563 25.79101563 25.79101563 25.79101563 25.79101563 25.79101563 25.79101563 25.79101563 25.79101563 25.79101563 25.79101563 25.79101563 25.79101563 25.79101563 25.79101563 25.79101563 25.79101563 25.79101563 25.79101563 26.29296875 26.80664063 26.80664063 27.32421875 27.828125 27.828125 27.828125 28.33203125 28.33203125 28.83203125 29.83398438 30.8359375 31.84570313 34.3828125 35.38476563 36.38476563 36.38476563 36.38476563 36.38476563 37.39257813 38.90039063 41.41210938 42.91992188 44.93945313 47.45507813 48.45898438 47.45117188 46.95117188 46.95117188 48.984375 49.98828125 51.4921875 51.99414063 51.99414063 51.99414063 51.99414063 53.50195313 54.50585938 55.5078125 59.04296875 62.05664063 66.078125 69.08789063 70.09375 72.6015625 75.11132813 78.12109375 81.63671875 84.6484375 86.65625 89.65820313 92.16992188 95.18359375 97.6953125 98.19726563\n",
      "input steam flow historical data501.5748291 499.2260132 499.2772827 500.1846008 496.6238708 498.5891418 502.7459412 500.4648743 502.2889709 499.7832031 500.0636902 500.743042 498.3969421 500.5327759 499.2595825 500.5498352 499.5137634 501.1347961 498.847229 500.8822021 499.7911682 500.2511292 500.0214844 498.8764343 475.8172607 470.2236023 467.3746643 467.4072266 469.4814758 475.2996216 476.7659607 477.0114441 479.1242371 477.752594 481.1304016 481.6025085 481.7685242 482.2025757 486.4703369 485.04245 412.094696 453.7951355 461.8817139 460.465271 417.9680786 419.0025635 423.6753235 407.6655273 439.7422485 444.0393372 428.3655701 417.7043152 446.3361816 464.1457214 445.0220642 401.5706482 420.6858521 515.9395142 515.0374146 469.4158936 465.3513489 462.8364868 464.7817993 463.0134277 461.8532715 460.1627502 467.6165161 455.8470459 462.6458435 461.1507874 461.9293213 461.3456116 461.8452759 461.919342 463.0724792 462.0221558 460.9504089 461.359375 461.1169739 462.1347046 461.5227661 461.1967163 462.2988586 462.2422485 460.6109924 461.6401062 461.6019897 474.5061951 452.4987488 461.5884399 462.9793091 465.0906372 462.2488708 460.9595337 461.6011353 462.2955322 460.7563477 460.712738 459.0434875 461.8866577 461.0286865 460.2989807 461.6361694 460.8820801 463.2001648 462.0362854 460.8774109 461.8129883 460.6949768 463.133667 460.9835815 460.1557007 462.5712891 461.8421936 461.540802 461.7319336 462.5909119 459.3693542 462.8210449 462.245636 461.5772095 459.2137451 462.0172729 463.5859985 460.4186401 461.0600586 484.3061829 473.3409424 465.3320618 463.0819397 461.3531189 460.7756042 463.6770325 462.0107727 460.5613098 461.9625549 462.2819824 466.6228333 460.0127869 459.052002 461.8702087 465.3978577 689.3983154 875.0734863 1241.518188 1142.449951 1174.256104 1194.97998 1171.952026 1244.303467 1391.033936 1493.466431 1476.828125 1602.849854 1693.898438 1707.255249 1781.819336 1891.695068 1959.435425 2019.078247 2001.818481 2003.605713 1998.764404 2068.467285 2153.359131 2351.29126 2423.880615 2490.786377 2673.121582 2708.809814 2753.343994 2727.148682 2683.104004 2693.901367 2816.586426 2743.01123 2849.654541 2868.315186 2791.409424 2842.862549 2902.65332 2958.597656 3040.260742 3200.687988 3406.588135 3591.87793 3734.909668 3707.241943 3924.022217 4062.399658 4189.929199 4359.31543 4493.92334 4623.067383 4735.785645 4862.102051 5027.636719 5164.34668 5213.007813\n",
      "input throttle pressure historical data0.038037546 0.038037546 0.038037546 0.038037546 0.038037546 0.038037546 1.630752921 4.82087183 5.836830139 6.879973412 7.393443108 7.393443108 7.926578999 8.433162689 8.433162689 8.950861931 9.498596191 14.42851925 84.42651367 106.0501633 120.9384003 133.2389374 146.2378082 158.6265411 171.1503296 183.5567322 196.7409821 209.4064178 222.1803894 234.6371155 246.5370789 257.3601074 267.662323 278.399231 289.0392761 299.4913635 309.4109497 309.4962769 264.2727966 258.802002 257.5492859 254.725174 259.6951294 274.1257629 310.6631165 343.0917664 375.588562 385.5875549 391.160675 403.7738037 455.6184692 501.6488953 565.9196167 616.6600952 679.7627563 729.1863403 795.1014404 920.4471436 901.3668213 899.8931885 899.3693848 900.1643066 897.260498 898.9179077 898.1417847 899.0736084 900.0415649 902.6553345 899.5077515 897.2175293 895.9976807 896.1956177 898.0612183 898.6248169 895.9326782 898.0473022 900.0250854 896.31604 897.1626587 896.7125854 896.8171387 896.15448 895.6434937 895.9351196 896.8724365 896.8897095 895.4373169 858.7714844 913.607666 902.2810669 897.5270386 894.7058105 896.524353 896.4708862 896.2362671 896.2435913 896.2011108 896.2702026 899.6635742 899.1742554 898.6621704 898.5158081 897.6044312 898.7580566 898.5076294 899.7252197 898.8080444 898.2178345 897.7732544 895.5962524 896.4888306 897.968689 903.5820313 894.7144775 890.4526367 889.6938477 900.6992188 893.4005127 892.7383423 896.6196899 794.2755737 884.755249 882.2382813 881.0543213 882.2218018 881.4472656 884.7674561 880.5153198 879.7389526 883.4771729 883.2024536 882.1986084 881.309082 880.8953247 881.0211792 879.2640991 878.3271484 879.2109985 878.4086304 881.4165649 878.6466064 1403.976074 1675.343384 2329.755859 2635.342285 2830.263184 2920.006104 3015.893066 3055.116455 3071.541748 3285.362793 3370.462158 3509.831543 3513.680664 3501.864014 3523.942627 3520.622314 3516.957031 3503.443848 3499.742432 3504.214111 3501.289795 3505.836914 3477.903564 3521.485107 3527.288574 3546.71167 3546.913574 3487.162354 3522.731689 3490.596924 3497.317871 3515.744385 3572.568359 3466.177734 3496.517578 3506.109375 3487.338867 3494.882813 3492.304932 3487.779541 3484.451172 3476.934326 3469.500488 3444.638184 3460.931641 3456.501465 3480.772461 3462.631348 3457.623535 3465.126221 3485.945801 3482.69043 3475.181885 3483.391113 3477.740234 3480.498047 3480.331299 3481.668945\n",
      "input main steam temperature historical data869.2716675 867.2376709 867.2376709 865.1758423 865.1758423 863.1697388 863.1697388 863.1697388 863.1697388 863.1697388 863.1697388 863.1697388 863.1697388 863.1697388 863.1697388 863.1697388 863.1697388 861.1636353 867.5441895 869.5561523 869.5561523 869.5561523 869.5561523 871.5622559 871.5622559 871.5622559 871.5622559 871.5622559 871.5622559 871.5622559 871.5622559 871.5622559 871.5622559 871.5622559 871.5622559 872.6413574 872.6413574 872.6413574 859.0643921 854.99646 852.9346924 850.8471069 846.6677246 844.6594849 838.4961548 832.4000244 826.1530762 820.0790405 815.9532471 811.94104 803.6659546 795.2546997 787.0157471 778.72229 772.5800781 766.4944458 762.4830933 756.3408203 752.208313 752.208313 750.1622925 750.1622925 750.1622925 748.1526489 748.1526489 748.1526489 748.1526489 748.1526489 748.1526489 748.1526489 750.1622925 752.208313 752.208313 754.2179565 756.3045044 758.31427 760.3804932 762.3922729 764.3998413 766.4661865 766.4661865 768.5687256 770.5987549 772.6083984 774.6544189 776.6560669 778.7020264 780.7319946 782.7496948 782.7496948 780.7319946 778.6940308 776.6923828 772.6730347 768.6536865 766.607666 762.5903931 758.4295654 754.3231812 752.2307129 752.2307129 752.2307129 752.2307129 754.2382813 756.250061 758.2576294 758.2576294 760.3238525 762.418457 764.4564819 766.5248413 768.5628662 772.6954346 776.7350464 780.8190308 789.3388672 793.5767212 795.8029175 799.90448 801.9047852 803.9187012 812.7490845 816.8190918 818.8251953 822.8374634 824.8435669 826.8496094 831.0010986 837.1029663 841.218689 845.2667236 849.3903809 853.4303589 857.5182495 861.5662231 865.6540527 869.7498779 873.8456421 877.9971313 882.0671997 886.1351318 898.9519043 905.1015625 915.362915 913.1538696 911.0999756 928.0124512 940.4033813 940.793396 936.7612915 940.793396 953.6381226 966.0925293 976.3817749 984.6848145 990.8065796 992.8126831 1003.010315 1000.996338 1000.996338 998.9703369 996.9085083 998.9703369 1001.004211 1005.04425 1005.04425 998.8508911 996.7911987 1002.918823 980.9373779 959.0575562 959.0575562 970.0430908 971.7628174 956.8005981 987.234314 1000.686035 998.6500854 996.6239624 998.6500854 998.6500854 998.6500854 998.6500854 998.6500854 998.6500854 1000.797546 998.7556763 998.7556763 1002.912964 996.8410645 998.9029541 998.9029541 998.9029541 998.9029541 998.9029541 998.9029541 998.9029541 996.8968506 998.9307861\n"
     ]
    },
    {
     "name": "stdout",
     "output_type": "stream",
     "text": [
      "input first stage pressure historical data0 0 0 0 0 0 0 0 0 0 0 0 0 0 0 0 0 0 0 0 0 0 0 0 0 0 0 0 0 0 0 0 0 0 0 0 0 0 0 0 0 0 0 0 0 0 0 0 0 0 0 0 0 0 0 0 0 0 0 0 0 0 0 0 0 0 0 0 0 0 0 0 0 0 0 0 0 0 0 0 0 0 0 0 0 0 0 0 0 0 0 0 0 0 0 0 0 0 0 0 0 0 0 0 0 0 0 0 0 0 0 0 0 7.634063721 3.837641001 43.65960693 36.15786743 35.89134979 36.14497757 42.91465759 123.2182922 139.554184 141.2626038 142.3866882 144.1427612 148.0781708 149.4593201 149.7753448 150.3224792 151.3129272 152.2172852 152.18396 152.1380005 152.5114594 151.710083 151.7161102 151.8053131 151.8507538 151.7209167 152.2037811 152.4288483 241.0627594 281.822113 410.6161499 505.1190491 589.7111816 589.984436 637.4505005 666.18396 696.1891479 738.9607544 792.5067139 811.4208374 861.4943237 918.1005249 944.7514648 984.3876953 1045.14917 1076.528198 1100.933716 1107.697021 1114.374878 1112.366333 1129.433838 1184.761841 1260.421753 1314.001587 1376.696533 1421.546753 1487.30603 1477.256348 1460.503906 1444.635742 1536.522705 1532.39856 1525.8125 1529.252441 1536.016846 1542.964966 1537.252075 1575.915283 1609.415649 1641.220093 1736.653564 1801.906372 1923.189575 2009.338135 2054.130371 2107.199463 2183.478516 2256.29541 2356.075684 2438.686768 2494.925781 2569.649658 2640.19043 2715.594238 2801.982666 2815.880127\n",
      "input Generator MW historical data0.000896593 0.000711023 0.000711023 0.000711023 0.000711023 0.000711023 0.000711023 0.000711023 0.000711023 0.000711023 0.000711023 0.000711023 0.000711023 0.000711023 0.000711023 0.000711023 0.000711023 0.000711023 0.000711023 0.000711023 0.000711023 0.000711023 0.000711023 0.000711023 0.000711023 0.000711023 0.000711023 0.000711023 0.000711023 0.000711023 0.000711023 0.000711023 0.000711023 0.000711023 0.000711023 0.000711023 0.000711023 0.000711023 0.000711023 0.000711023 0.000711023 0.000711023 0.000711023 0.000711023 0.000711023 0.000711023 0.000711023 0.000711023 0.000711023 0.000711023 0.000711023 0.000711023 0.000711023 0.000711023 0.000711023 0.000711023 0.000711023 0.000711023 0.000711023 0.000711023 0.000711023 0.000466182 0.000466182 0.000466182 0.000466182 0.000466182 0.000466182 0.000466182 0.000466182 0.000466182 0.000466182 0.000466182 0.000466182 0.000466182 0.000466182 0.000466182 0.000466182 0.000466182 0.000466182 0.000466182 0.000466182 0.000466182 0.000466182 0.000466182 0.000466182 0.000466182 0.000466182 0.000466182 0.000466182 0.000466182 0.000466182 0.000466182 0.000466182 0.000466182 0.000466182 0.000466182 0.000466182 0.000466182 0.000466182 0.000466182 0.000466182 0.000466182 0.000466182 0.000466182 0.000466182 0.000466182 0.000466182 0.000466182 0.000466182 0 0 0 0 0 0 0 0 0 0 0.928033054 19.60943031 24.52575493 25.59717369 25.59717369 26.76808548 27.37417984 27.89471245 27.89471245 28.05990028 28.63142014 29.13494682 29.08066559 28.88716507 28.99105835 28.99105835 29.00143623 29.48379135 29.08663177 29.10756683 29.18130493 29.34194183 52.70020676 63.53623199 94.97621155 121.334053 149.7358704 149.6255798 163.4986725 173.0233459 181.2869873 193.5831146 206.9809723 213.8261719 227.6878967 239.8139648 247.4969177 260.5350952 275.8513794 284.01651 298.3683167 299.2134705 301.8010559 301.2711487 303.2546387 320.8904114 339.6762695 356.3581848 375.0207214 386.3031311 406.9269104 407.6718445 402.9749756 397.6392212 422.4105835 421.4572449 421.961853 423.6080627 426.5815125 429.177948 428.8954468 439.6480408 446.2996521 453.3065491 471.2467041 486.8811951 519.1292725 542.5064697 559.6798706 567.5366821 588.1842651 609.7091064 635.2559204 659.0432739 673.2354126 693.9483032 714.5438843 731.7820435 756.4841309 757.8742065\n"
     ]
    }
   ],
   "source": [
    "#Define the desired performance\n",
    "\n",
    "#get a list from the user comparing governor demand and measured steam flow\n",
    "input_dmd = input(\"input governor demand historical data\")\n",
    "input_steam_flow = input(\"input steam flow historical data\")\n",
    "input_throttle_p = input(\"input throttle pressure historical data\")\n",
    "input_steam_temp = input(\"input main steam temperature historical data\")\n",
    "input_1st_p = input(\"input first stage pressure historical data\")\n",
    "input_mwg = input(\"input Generator MW historical data\")\n",
    "\n",
    "#split input by spaces\n",
    "list_dmd = input_dmd.split()\n",
    "list_steam_flow = input_steam_flow.split()\n",
    "list_throttle_p = input_throttle_p.split()\n",
    "list_steam_temp = input_steam_temp.split()\n",
    "list_1st_p = input_1st_p.split()\n",
    "list_mwg = input_mwg.split()\n",
    "    \n",
    "#convert list of strings to list of floats\n",
    "list_dmd = [float(i) for i in list_dmd]\n",
    "list_steam_flow = [float(i) for i in list_steam_flow]\n",
    "list_throttle_p = [float(i) for i in list_throttle_p]\n",
    "list_steam_temp = [float(i) for i in list_steam_temp]\n",
    "list_1st_p = [float(i) for i in list_1st_p]\n",
    "list_mwg = [float(i) for i in list_mwg]"
   ]
  },
  {
   "cell_type": "code",
   "execution_count": 21,
   "metadata": {},
   "outputs": [],
   "source": [
    "#Define a dictionary of the governor valve demand curves\n",
    "dictionary = {\n",
    "    \"Governor Demand (Design)\" : list_dmd,\n",
    "    \"Steam Flow (Design)\" : list_steam_flow,\n",
    "    \"Throttle Pressure\" : list_throttle_p,\n",
    "    \"Main Steam Temperature\" : list_steam_temp,\n",
    "    \"First Stage Pressure (Design)\" : list_1st_p,\n",
    "    \"Generator MWG\" : list_mwg\n",
    "}\n",
    "\n",
    "#Use dictionary to create a pandas dataframe\n",
    "design_df = pd.DataFrame(dictionary)\n",
    "\n",
    "#Save dataframe to csv\n",
    "design_df.to_csv(f\"projects/{project}/design_data.csv\")"
   ]
  },
  {
   "cell_type": "markdown",
   "metadata": {},
   "source": [
    "# Create a model that predicts the Flow for a given Governor Demand"
   ]
  },
  {
   "cell_type": "markdown",
   "metadata": {},
   "source": [
    "## Define Trim Curves"
   ]
  },
  {
   "cell_type": "code",
   "execution_count": 15,
   "metadata": {},
   "outputs": [
    {
     "name": "stdout",
     "output_type": "stream",
     "text": [
      "     GV1 lift  GV1 area  GV2 lift  GV2 area  GV3 lift  GV3 area  GV4 lift  \\\n",
      "0         0.0       0.0       0.0       0.0       0.0       0.0       0.0   \n",
      "1         0.5       0.5       0.5       0.5       0.5       0.5       0.5   \n",
      "2         1.0       1.0       1.0       1.0       1.0       1.0       1.0   \n",
      "3         1.5       1.5       1.5       1.5       1.5       1.5       1.5   \n",
      "4         2.0       2.0       2.0       2.0       2.0       2.0       2.0   \n",
      "5         2.5       2.5       2.5       2.5       2.5       2.5       2.5   \n",
      "6         3.0       3.0       3.0       3.0       3.0       3.0       3.0   \n",
      "7         3.5       3.5       3.5       3.5       3.5       3.5       3.5   \n",
      "8         4.0       4.0       4.0       4.0       4.0       4.0       4.0   \n",
      "9         4.5       4.5       4.5       4.5       4.5       4.5       4.5   \n",
      "10        5.0       5.0       5.0       5.0       5.0       5.0       5.0   \n",
      "11        5.5       5.5       5.5       5.5       5.5       5.5       5.5   \n",
      "12        6.0       6.0       6.0       6.0       6.0       6.0       6.0   \n",
      "13        6.5       6.5       6.5       6.5       6.5       6.5       6.5   \n",
      "14        7.0       7.0       7.0       7.0       7.0       7.0       7.0   \n",
      "15        7.5       7.5       7.5       7.5       7.5       7.5       7.5   \n",
      "16        8.0       8.0       8.0       8.0       8.0       8.0       8.0   \n",
      "17        8.5       8.5       8.5       8.5       8.5       8.5       8.5   \n",
      "18        9.0       9.0       9.0       9.0       9.0       9.0       9.0   \n",
      "19        9.5       9.5       9.5       9.5       9.5       9.5       9.5   \n",
      "20       10.0      10.0      10.0      10.0      10.0      10.0      10.0   \n",
      "21       10.5      10.5      10.5      10.5      10.5      10.5      10.5   \n",
      "22       11.0      11.0      11.0      11.0      11.0      11.0      11.0   \n",
      "23       11.5      11.5      11.5      11.5      11.5      11.5      11.5   \n",
      "24       12.0      12.0      12.0      12.0      12.0      12.0      12.0   \n",
      "25       12.5      12.5      12.5      12.5      12.5      12.5      12.5   \n",
      "26       13.0      13.0      13.0      13.0      13.0      13.0      13.0   \n",
      "27       13.5      13.5      13.5      13.5      13.5      13.5      13.5   \n",
      "28       14.0      14.0      14.0      14.0      14.0      14.0      14.0   \n",
      "29       14.5      14.5      14.5      14.5      14.5      14.5      14.5   \n",
      "..        ...       ...       ...       ...       ...       ...       ...   \n",
      "171      85.5      85.5      85.5      85.5      85.5      85.5      85.5   \n",
      "172      86.0      86.0      86.0      86.0      86.0      86.0      86.0   \n",
      "173      86.5      86.5      86.5      86.5      86.5      86.5      86.5   \n",
      "174      87.0      87.0      87.0      87.0      87.0      87.0      87.0   \n",
      "175      87.5      87.5      87.5      87.5      87.5      87.5      87.5   \n",
      "176      88.0      88.0      88.0      88.0      88.0      88.0      88.0   \n",
      "177      88.5      88.5      88.5      88.5      88.5      88.5      88.5   \n",
      "178      89.0      89.0      89.0      89.0      89.0      89.0      89.0   \n",
      "179      89.5      89.5      89.5      89.5      89.5      89.5      89.5   \n",
      "180      90.0      90.0      90.0      90.0      90.0      90.0      90.0   \n",
      "181      90.5      90.5      90.5      90.5      90.5      90.5      90.5   \n",
      "182      91.0      91.0      91.0      91.0      91.0      91.0      91.0   \n",
      "183      91.5      91.5      91.5      91.5      91.5      91.5      91.5   \n",
      "184      92.0      92.0      92.0      92.0      92.0      92.0      92.0   \n",
      "185      92.5      92.5      92.5      92.5      92.5      92.5      92.5   \n",
      "186      93.0      93.0      93.0      93.0      93.0      93.0      93.0   \n",
      "187      93.5      93.5      93.5      93.5      93.5      93.5      93.5   \n",
      "188      94.0      94.0      94.0      94.0      94.0      94.0      94.0   \n",
      "189      94.5      94.5      94.5      94.5      94.5      94.5      94.5   \n",
      "190      95.0      95.0      95.0      95.0      95.0      95.0      95.0   \n",
      "191      95.5      95.5      95.5      95.5      95.5      95.5      95.5   \n",
      "192      96.0      96.0      96.0      96.0      96.0      96.0      96.0   \n",
      "193      96.5      96.5      96.5      96.5      96.5      96.5      96.5   \n",
      "194      97.0      97.0      97.0      97.0      97.0      97.0      97.0   \n",
      "195      97.5      97.5      97.5      97.5      97.5      97.5      97.5   \n",
      "196      98.0      98.0      98.0      98.0      98.0      98.0      98.0   \n",
      "197      98.5      98.5      98.5      98.5      98.5      98.5      98.5   \n",
      "198      99.0      99.0      99.0      99.0      99.0      99.0      99.0   \n",
      "199      99.5      99.5      99.5      99.5      99.5      99.5      99.5   \n",
      "200     100.0     100.0     100.0     100.0     100.0     100.0     100.0   \n",
      "\n",
      "     GV4 area  GV5 lift  GV5 area  GV6 lift  GV6 area  GV7 lift  GV7 area  \\\n",
      "0         0.0       0.0       0.0       0.0       0.0       0.0       0.0   \n",
      "1         0.5       0.5       0.5       0.5       0.5       0.5       0.5   \n",
      "2         1.0       1.0       1.0       1.0       1.0       1.0       1.0   \n",
      "3         1.5       1.5       1.5       1.5       1.5       1.5       1.5   \n",
      "4         2.0       2.0       2.0       2.0       2.0       2.0       2.0   \n",
      "5         2.5       2.5       2.5       2.5       2.5       2.5       2.5   \n",
      "6         3.0       3.0       3.0       3.0       3.0       3.0       3.0   \n",
      "7         3.5       3.5       3.5       3.5       3.5       3.5       3.5   \n",
      "8         4.0       4.0       4.0       4.0       4.0       4.0       4.0   \n",
      "9         4.5       4.5       4.5       4.5       4.5       4.5       4.5   \n",
      "10        5.0       5.0       5.0       5.0       5.0       5.0       5.0   \n",
      "11        5.5       5.5       5.5       5.5       5.5       5.5       5.5   \n",
      "12        6.0       6.0       6.0       6.0       6.0       6.0       6.0   \n",
      "13        6.5       6.5       6.5       6.5       6.5       6.5       6.5   \n",
      "14        7.0       7.0       7.0       7.0       7.0       7.0       7.0   \n",
      "15        7.5       7.5       7.5       7.5       7.5       7.5       7.5   \n",
      "16        8.0       8.0       8.0       8.0       8.0       8.0       8.0   \n",
      "17        8.5       8.5       8.5       8.5       8.5       8.5       8.5   \n",
      "18        9.0       9.0       9.0       9.0       9.0       9.0       9.0   \n",
      "19        9.5       9.5       9.5       9.5       9.5       9.5       9.5   \n",
      "20       10.0      10.0      10.0      10.0      10.0      10.0      10.0   \n",
      "21       10.5      10.5      10.5      10.5      10.5      10.5      10.5   \n",
      "22       11.0      11.0      11.0      11.0      11.0      11.0      11.0   \n",
      "23       11.5      11.5      11.5      11.5      11.5      11.5      11.5   \n",
      "24       12.0      12.0      12.0      12.0      12.0      12.0      12.0   \n",
      "25       12.5      12.5      12.5      12.5      12.5      12.5      12.5   \n",
      "26       13.0      13.0      13.0      13.0      13.0      13.0      13.0   \n",
      "27       13.5      13.5      13.5      13.5      13.5      13.5      13.5   \n",
      "28       14.0      14.0      14.0      14.0      14.0      14.0      14.0   \n",
      "29       14.5      14.5      14.5      14.5      14.5      14.5      14.5   \n",
      "..        ...       ...       ...       ...       ...       ...       ...   \n",
      "171      85.5      85.5      85.5      85.5      85.5      85.5      85.5   \n",
      "172      86.0      86.0      86.0      86.0      86.0      86.0      86.0   \n",
      "173      86.5      86.5      86.5      86.5      86.5      86.5      86.5   \n",
      "174      87.0      87.0      87.0      87.0      87.0      87.0      87.0   \n",
      "175      87.5      87.5      87.5      87.5      87.5      87.5      87.5   \n",
      "176      88.0      88.0      88.0      88.0      88.0      88.0      88.0   \n",
      "177      88.5      88.5      88.5      88.5      88.5      88.5      88.5   \n",
      "178      89.0      89.0      89.0      89.0      89.0      89.0      89.0   \n",
      "179      89.5      89.5      89.5      89.5      89.5      89.5      89.5   \n",
      "180      90.0      90.0      90.0      90.0      90.0      90.0      90.0   \n",
      "181      90.5      90.5      90.5      90.5      90.5      90.5      90.5   \n",
      "182      91.0      91.0      91.0      91.0      91.0      91.0      91.0   \n",
      "183      91.5      91.5      91.5      91.5      91.5      91.5      91.5   \n",
      "184      92.0      92.0      92.0      92.0      92.0      92.0      92.0   \n",
      "185      92.5      92.5      92.5      92.5      92.5      92.5      92.5   \n",
      "186      93.0      93.0      93.0      93.0      93.0      93.0      93.0   \n",
      "187      93.5      93.5      93.5      93.5      93.5      93.5      93.5   \n",
      "188      94.0      94.0      94.0      94.0      94.0      94.0      94.0   \n",
      "189      94.5      94.5      94.5      94.5      94.5      94.5      94.5   \n",
      "190      95.0      95.0      95.0      95.0      95.0      95.0      95.0   \n",
      "191      95.5      95.5      95.5      95.5      95.5      95.5      95.5   \n",
      "192      96.0      96.0      96.0      96.0      96.0      96.0      96.0   \n",
      "193      96.5      96.5      96.5      96.5      96.5      96.5      96.5   \n",
      "194      97.0      97.0      97.0      97.0      97.0      97.0      97.0   \n",
      "195      97.5      97.5      97.5      97.5      97.5      97.5      97.5   \n",
      "196      98.0      98.0      98.0      98.0      98.0      98.0      98.0   \n",
      "197      98.5      98.5      98.5      98.5      98.5      98.5      98.5   \n",
      "198      99.0      99.0      99.0      99.0      99.0      99.0      99.0   \n",
      "199      99.5      99.5      99.5      99.5      99.5      99.5      99.5   \n",
      "200     100.0     100.0     100.0     100.0     100.0     100.0     100.0   \n",
      "\n",
      "     GV8 lift  GV8 area  \n",
      "0         0.0       0.0  \n",
      "1         0.5       0.5  \n",
      "2         1.0       1.0  \n",
      "3         1.5       1.5  \n",
      "4         2.0       2.0  \n",
      "5         2.5       2.5  \n",
      "6         3.0       3.0  \n",
      "7         3.5       3.5  \n",
      "8         4.0       4.0  \n",
      "9         4.5       4.5  \n",
      "10        5.0       5.0  \n",
      "11        5.5       5.5  \n",
      "12        6.0       6.0  \n",
      "13        6.5       6.5  \n",
      "14        7.0       7.0  \n",
      "15        7.5       7.5  \n",
      "16        8.0       8.0  \n",
      "17        8.5       8.5  \n",
      "18        9.0       9.0  \n",
      "19        9.5       9.5  \n",
      "20       10.0      10.0  \n",
      "21       10.5      10.5  \n",
      "22       11.0      11.0  \n",
      "23       11.5      11.5  \n",
      "24       12.0      12.0  \n",
      "25       12.5      12.5  \n",
      "26       13.0      13.0  \n",
      "27       13.5      13.5  \n",
      "28       14.0      14.0  \n",
      "29       14.5      14.5  \n",
      "..        ...       ...  \n",
      "171      85.5      85.5  \n",
      "172      86.0      86.0  \n",
      "173      86.5      86.5  \n",
      "174      87.0      87.0  \n",
      "175      87.5      87.5  \n",
      "176      88.0      88.0  \n",
      "177      88.5      88.5  \n",
      "178      89.0      89.0  \n",
      "179      89.5      89.5  \n",
      "180      90.0      90.0  \n",
      "181      90.5      90.5  \n",
      "182      91.0      91.0  \n",
      "183      91.5      91.5  \n",
      "184      92.0      92.0  \n",
      "185      92.5      92.5  \n",
      "186      93.0      93.0  \n",
      "187      93.5      93.5  \n",
      "188      94.0      94.0  \n",
      "189      94.5      94.5  \n",
      "190      95.0      95.0  \n",
      "191      95.5      95.5  \n",
      "192      96.0      96.0  \n",
      "193      96.5      96.5  \n",
      "194      97.0      97.0  \n",
      "195      97.5      97.5  \n",
      "196      98.0      98.0  \n",
      "197      98.5      98.5  \n",
      "198      99.0      99.0  \n",
      "199      99.5      99.5  \n",
      "200     100.0     100.0  \n",
      "\n",
      "[201 rows x 16 columns]\n"
     ]
    }
   ],
   "source": [
    "#Start with linear trim curves\n",
    "trim_list = []\n",
    "\n",
    "#Define the resolution\n",
    "res = 200\n",
    "top = 100 + 100/res\n",
    "step = 100/res\n",
    "\n",
    "for x in range(gov_no):\n",
    "    trim_list.append(numpy.arange(0,top,step))\n",
    "    trim_list.append(numpy.arange(0,top,step))\n",
    "\n",
    "#Create a list of column titles for Pandas dataframe\n",
    "titles = []\n",
    "for i in range(gov_no):\n",
    "    titles.append(\"GV\"+str(i+1)+\" lift\")\n",
    "    titles.append(\"GV\"+str(i+1)+\" area\")\n",
    "    \n",
    "#Define a dictionary of the governor trim curves\n",
    "dictionary = {}\n",
    "for i in range(2*gov_no):\n",
    "    dictionary.update({titles[i] : trim_list[i]})\n",
    "\n",
    "#Use dictionary to create a pandas dataframe\n",
    "gv_trim_df = pd.DataFrame(dictionary)\n",
    "\n",
    "#Save Dataframe to csv\n",
    "gv_trim_df.to_csv(f\"projects/{project}/gov_trim_curve.csv\")\n",
    "print(gv_trim_df)"
   ]
  },
  {
   "cell_type": "markdown",
   "metadata": {},
   "source": [
    "## Define the tables translating Governor Demand to Flow Coefficient "
   ]
  },
  {
   "cell_type": "code",
   "execution_count": 56,
   "metadata": {},
   "outputs": [
    {
     "name": "stdout",
     "output_type": "stream",
     "text": [
      "1\n",
      "4\n",
      "2\n",
      "3\n",
      "1\n"
     ]
    }
   ],
   "source": [
    "#define a function that gets the flow regime for a given jratio nd pratio\n",
    "def get_regime(jratio, pratio):\n",
    "    # return 1 if \"Neither Choked\"\n",
    "    # return 2 if \"Governor Choked\"\n",
    "    # return 3 if \"Nozzle Choked\"\n",
    "    # return 4 if \"Both Choked\"\n",
    "    \n",
    "    alpha = 0.55\n",
    "    \n",
    "    #Define the intersection of the curves\n",
    "    triple_point = alpha + (alpha - 1) *0.55**2/alpha\n",
    "    \n",
    "    #if jratio is to the right of the triple point, test for neither choked or nozzle choked\n",
    "    if jratio > 0.55:\n",
    "        \n",
    "        #define the limit below which the nozzle is choked\n",
    "        limit = alpha*jratio*(jratio-(-4*alpha+jratio**2+4)**0.5)/(2*(alpha-1))\n",
    "        \n",
    "        #test if the pratio is in \"neither choked\" or \"nozzle choked\" regime\n",
    "        if pratio > limit:\n",
    "            return 1\n",
    "        else:\n",
    "            return 3\n",
    "    \n",
    "    #if jratio is to the left of the triple point, test for neither choked, governor choked, or both choked\n",
    "    else:\n",
    "        \n",
    "        #define the limit below which both are choked\n",
    "        limit = triple_point/alpha*jratio\n",
    "        \n",
    "        #if the pratio is below the limit, the flow is \"both choked\"\n",
    "        if pratio < limit:\n",
    "            return 4\n",
    "        \n",
    "        #if not, define the limit below which the governover is choked\n",
    "        else:\n",
    "            limit = alpha + (alpha-1)*jratio**2/alpha\n",
    "            \n",
    "            #if the pratio is below the limit, the flow is \"governor choked\"\n",
    "            if pratio < limit:\n",
    "                return 2\n",
    "            else:\n",
    "                return 1\n",
    "\n",
    "print(get_regime(1,1))\n",
    "print(get_regime(0.2,0.01))\n",
    "print(get_regime(0.2,0.2))\n",
    "print(get_regime(1.5,0.2))\n"
   ]
  },
  {
   "cell_type": "code",
   "execution_count": 40,
   "metadata": {},
   "outputs": [],
   "source": [
    "#Start with K governor = 4 and K nozzle = 4\n",
    "k_gov = 4\n",
    "k_noz = 4\n",
    "alpha = 0.55\n",
    "\n",
    "#define the ratio of governor valve J to nozzle J for all governor demands in increments of 0.5%\n",
    "gov_dmd = numpy.arange(0,top, step)\n",
    "single_lift = numpy.interp(gov_dmd, single_dmd_df[\"Governor Demand\"], single_dmd_df[\"Valve Position Demand\"])  \n",
    "\n",
    "single_j_list = []\n",
    "single_jratio_list = []\n",
    "single_region = []\n",
    "for x in range(gov_no): \n",
    "    single_j_list.append(k_gov/100*numpy.interp(single_lift, trim_list[2*x], trim_list[2*x+1]))\n",
    "    jratio = single_j_list[x]/k_noz\n",
    "    \n",
    "    #Convert from array to floating point\n",
    "    jratio = jratio[0]\n",
    "    single_jratio_list.append(jratio)\n",
    "    if jratio[0] > alpha:\n",
    "        limit = alpha*jratio*(jratio[0]-(-4*alpha+jratio[0]^2+4)^0.5)/(2*(alpha-1))\n",
    "        single_region.append(limit)\n",
    "    else:\n",
    "        limit = alpha*jratio[0]*(jratio[0]-(-4*alpha+jratio[0]^2+4)^0.5)/(2*(alpha-1))\n",
    "        single_region.append(limit)\n",
    "    \n",
    "seq_lift_list = []\n",
    "seq_j_list = []\n",
    "seq_jratio_list = []\n",
    "for x in range(gov_no):\n",
    "    seq_lift_list.append(numpy.interp(gov_dmd, gv_demand_df.iloc[:,2*x], gv_demand_df.iloc[:,2*x+1]))\n",
    "    seq_j_list.append(k_gov/100*numpy.interp(seq_lift_list[x], trim_list[2*x], trim_list[2*x+1]))\n",
    "    seq_jratio_list.append(seq_j_list[x]/k_noz)"
   ]
  },
  {
   "cell_type": "code",
   "execution_count": 41,
   "metadata": {},
   "outputs": [
    {
     "name": "stdout",
     "output_type": "stream",
     "text": [
      "['Governor Demand', 'GV1 J', 'GV1 J_ratio', 'GV1 Region', 'GV2 J', 'GV2 J_ratio', 'GV2 Region', 'GV3 J', 'GV3 J_ratio', 'GV3 Region', 'GV4 J', 'GV4 J_ratio', 'GV4 Region', 'GV5 J', 'GV5 J_ratio', 'GV5 Region', 'GV6 J', 'GV6 J_ratio', 'GV6 Region', 'GV7 J', 'GV7 J_ratio', 'GV7 Region', 'GV8 J', 'GV8 J_ratio', 'GV8 Region']\n",
      "   Governor Demand  GV1 J  GV1 J_ratio  GV1 Region  GV2 J  GV2 J_ratio  \\\n",
      "0              0.0   0.00          0.0        0.00    0.0         0.00   \n",
      "1              0.5   0.00          0.0        0.00    0.0         0.00   \n",
      "2              1.0   0.00          0.0        0.00    0.0         0.00   \n",
      "3              1.5   0.02          0.0        0.02    0.0         0.02   \n",
      "4              2.0   0.04          0.0        0.04    0.0         0.04   \n",
      "\n",
      "   GV2 Region  GV3 J  GV3 J_ratio  GV3 Region  GV4 J  GV4 J_ratio  GV4 Region  \\\n",
      "0         0.0   0.00          0.0        0.00    0.0         0.00         0.0   \n",
      "1         0.0   0.00          0.0        0.00    0.0         0.00         0.0   \n",
      "2         0.0   0.00          0.0        0.00    0.0         0.00         0.0   \n",
      "3         0.0   0.02          0.0        0.02    0.0         0.02         0.0   \n",
      "4         0.0   0.04          0.0        0.04    0.0         0.04         0.0   \n",
      "\n",
      "   GV5 J  GV5 J_ratio  GV5 Region  GV6 J  GV6 J_ratio  \n",
      "0   0.00          0.0        0.00    0.0            0  \n",
      "1   0.00          0.0        0.00    0.0            0  \n",
      "2   0.00          0.0        0.00    0.0            0  \n",
      "3   0.02          0.0        0.02    0.0            0  \n",
      "4   0.04          0.0        0.04    0.0            0  \n"
     ]
    },
    {
     "data": {
      "text/plain": [
       "[<matplotlib.lines.Line2D at 0x27829e64eb8>]"
      ]
     },
     "execution_count": 41,
     "metadata": {},
     "output_type": "execute_result"
    },
    {
     "data": {
      "image/png": "[encoded data removed]",
      "text/plain": [
       "<Figure size 432x288 with 1 Axes>"
      ]
     },
     "metadata": {
      "needs_background": "light"
     },
     "output_type": "display_data"
    }
   ],
   "source": [
    "#Define titles for single demand dataframe\n",
    "titles = []\n",
    "titles.append(\"Governor Demand\")\n",
    "for x in range(gov_no):\n",
    "    titles.append(f\"GV{x+1} J\")\n",
    "    titles.append(f\"GV{x+1} J_ratio\")\n",
    "    titles.append(f\"GV{x+1} Region\")\n",
    "\n",
    "print(titles)\n",
    "    \n",
    "#Define dictionary for single demand dataframe\n",
    "dictionary = {}\n",
    "dictionary.update({titles[0] : gov_dmd})\n",
    "\n",
    "for i in range(gov_no):\n",
    "    dictionary.update({titles[2*i+1] : single_j_list[i]})\n",
    "    dictionary.update({titles[2*i+2] : single_jratio_list[i]})\n",
    "    dictionary.update({titles[2*i+3] : single_region[i]})\n",
    "\n",
    "\n",
    "#Use dictionary to create a pandas dataframe\n",
    "single_j_df = pd.DataFrame(dictionary)\n",
    "print(single_j_df.head())\n",
    "plt.plot(single_j_df[\"GV1 J_ratio\"], single_j_df[\"GV1 Region\"])"
   ]
  },
  {
   "cell_type": "code",
   "execution_count": 37,
   "metadata": {
    "scrolled": true
   },
   "outputs": [
    {
     "name": "stdout",
     "output_type": "stream",
     "text": [
      "['Governor Demand', 'GV1 J', 'GV1 J_ratio', 'GV2 J', 'GV2 J_ratio', 'GV3 J', 'GV3 J_ratio', 'GV4 J', 'GV4 J_ratio', 'GV5 J', 'GV5 J_ratio', 'GV6 J', 'GV6 J_ratio', 'GV7 J', 'GV7 J_ratio', 'GV8 J', 'GV8 J_ratio']\n"
     ]
    },
    {
     "data": {
      "image/png": "[encoded data removed]",
      "text/plain": [
       "<Figure size 432x288 with 1 Axes>"
      ]
     },
     "metadata": {
      "needs_background": "light"
     },
     "output_type": "display_data"
    }
   ],
   "source": [
    "#Define titles for sequential demand dataframe\n",
    "titles = []\n",
    "titles.append(\"Governor Demand\")\n",
    "for x in range(gov_no):\n",
    "    titles.append(f\"GV{x+1} J\")\n",
    "    titles.append(f\"GV{x+1} J_ratio\")\n",
    "\n",
    "print(titles)\n",
    "    \n",
    "#Define dictionary for sequential demand dataframe\n",
    "dictionary = {}\n",
    "dictionary.update({titles[0] : gov_dmd})\n",
    "\n",
    "for i in range(gov_no):\n",
    "    dictionary.update({titles[2*i+1] : seq_j_list[i]})\n",
    "    dictionary.update({titles[2*i+2] : seq_jratio_list[i]})\n",
    "\n",
    "#Use dictionary to create a pandas dataframe\n",
    "single_j_df = pd.DataFrame(dictionary)\n",
    "single_j_df\n",
    "\n",
    "#Create a plot of all the J curves\n",
    "for i in range(gov_no):\n",
    "    plt.plot(single_j_df.iloc[:,0], single_j_df.iloc[:,i*2 +1])"
   ]
  },
  {
   "cell_type": "markdown",
   "metadata": {},
   "source": [
    "## Determine Flow Region"
   ]
  },
  {
   "cell_type": "code",
   "execution_count": 12,
   "metadata": {},
   "outputs": [],
   "source": [
    "#Case 1 (neither choked) Equations: prb = 1/2*(-jratio^2 + pxr +- sqrt(4*jratio^2 +jratio^4 - 2*jratio^2*pxratio +pxratio^2))\n",
    "#f = jgov*sqrt(rho_in())\n",
    "\n",
    "\n",
    "#Case 2 (governor only choked) Equations: 1/2*(pxratio + sqrt(4*jratio^2 + pxratio^2 -4jratio^2*alpha))\n",
    "\n",
    "#case 3 (nozzle only choked) Equations: 1/2*(-jratio^2/(1-alpha) - jratio*sqrt(4+jratio^2-4*alpha)/(-1=alpha))\n",
    "\n",
    "#case 4 (both choked) Equations:"
   ]
  },
  {
   "cell_type": "markdown",
   "metadata": {},
   "source": [
    "## Determine the Bowl Pressure"
   ]
  },
  {
   "cell_type": "code",
   "execution_count": null,
   "metadata": {},
   "outputs": [],
   "source": []
  },
  {
   "cell_type": "markdown",
   "metadata": {},
   "source": [
    "## Determine the Flow"
   ]
  },
  {
   "cell_type": "code",
   "execution_count": null,
   "metadata": {},
   "outputs": [],
   "source": []
  }
 ],
 "metadata": {
  "kernelspec": {
   "display_name": "Python 3",
   "language": "python",
   "name": "python3"
  },
  "language_info": {
   "codemirror_mode": {
    "name": "ipython",
    "version": 3
   },
   "file_extension": ".py",
   "mimetype": "text/x-python",
   "name": "python",
   "nbconvert_exporter": "python",
   "pygments_lexer": "ipython3",
   "version": "3.7.3"
  }
 },
 "nbformat": 4,
 "nbformat_minor": 2
}
